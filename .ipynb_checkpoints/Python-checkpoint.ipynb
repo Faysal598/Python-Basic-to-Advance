{
 "cells": [
  {
   "cell_type": "markdown",
   "id": "c6ca28cd",
   "metadata": {},
   "source": [
    "## Python variables -  Assign Multiple Values"
   ]
  },
  {
   "cell_type": "code",
   "execution_count": 2,
   "id": "a0cef043",
   "metadata": {},
   "outputs": [
    {
     "name": "stdout",
     "output_type": "stream",
     "text": [
      "Biriyani\n",
      "Kacchi\n",
      "Borhani\n"
     ]
    }
   ],
   "source": [
    "#Many Values to Multiple Variables\n",
    "x, y, z = 'Biriyani', 'Kacchi', 'Borhani'\n",
    "print(x)\n",
    "print(y)\n",
    "print(z)"
   ]
  },
  {
   "cell_type": "code",
   "execution_count": 3,
   "id": "637c1dd9",
   "metadata": {},
   "outputs": [
    {
     "name": "stdout",
     "output_type": "stream",
     "text": [
      "Kacchi\n",
      "Kacchi\n",
      "Kacchi\n"
     ]
    }
   ],
   "source": [
    "# One Value to Multiple Variables\n",
    "x = y = z = \"Kacchi\"\n",
    "print(x)\n",
    "print(y)\n",
    "print(z)"
   ]
  },
  {
   "cell_type": "code",
   "execution_count": 4,
   "id": "41c2caf2",
   "metadata": {},
   "outputs": [
    {
     "name": "stdout",
     "output_type": "stream",
     "text": [
      "Kacchi\n",
      "Tehari\n",
      "Borhani\n"
     ]
    }
   ],
   "source": [
    "#If you have a collection of values in a list, tuple etc. Python allows you to extract the values into variables. \n",
    "#This is called unpacking.\n",
    "\n",
    "biriyani = ['Kacchi', 'Tehari', 'Borhani']\n",
    "x, y, z = biriyani\n",
    "print(x)\n",
    "print(y)\n",
    "print(z)"
   ]
  },
  {
   "cell_type": "markdown",
   "id": "815e2233",
   "metadata": {},
   "source": [
    "## Output Variables"
   ]
  },
  {
   "cell_type": "code",
   "execution_count": 5,
   "id": "99dfa200",
   "metadata": {},
   "outputs": [
    {
     "name": "stdout",
     "output_type": "stream",
     "text": [
      "5 Faysal\n"
     ]
    }
   ],
   "source": [
    "x = 5\n",
    "y = \"Faysal\"\n",
    "print(x, y)"
   ]
  },
  {
   "cell_type": "markdown",
   "id": "63ba5eb2",
   "metadata": {},
   "source": [
    "## Global Variable"
   ]
  },
  {
   "cell_type": "code",
   "execution_count": 2,
   "id": "ab169dad",
   "metadata": {},
   "outputs": [
    {
     "name": "stdout",
     "output_type": "stream",
     "text": [
      "Python is awesome\n"
     ]
    }
   ],
   "source": [
    "x = 'awesome'\n",
    "\n",
    "def my_func():\n",
    "    print(\"Python is \" + x)\n",
    "\n",
    "my_func()"
   ]
  },
  {
   "cell_type": "code",
   "execution_count": 5,
   "id": "0e80da38",
   "metadata": {},
   "outputs": [
    {
     "name": "stdout",
     "output_type": "stream",
     "text": [
      "Python is fantastic\n"
     ]
    }
   ],
   "source": [
    "def my_func():\n",
    "    global x\n",
    "    x = 'fantastic'\n",
    "\n",
    "my_func()\n",
    "print(\"Python is \" + x)"
   ]
  },
  {
   "cell_type": "markdown",
   "id": "8cf919ba",
   "metadata": {},
   "source": [
    "## Python Casting"
   ]
  },
  {
   "cell_type": "code",
   "execution_count": 9,
   "id": "9e19d7e2",
   "metadata": {},
   "outputs": [
    {
     "name": "stdout",
     "output_type": "stream",
     "text": [
      "75\n",
      "7.5\n",
      "75\n"
     ]
    }
   ],
   "source": [
    "# x = int(75)\n",
    "# y = int(7.5)\n",
    "# z = int(\"75\")\n",
    "\n",
    "x = str(75)\n",
    "y = str(7.5)\n",
    "z = str(\"75\")\n",
    "print(x)\n",
    "print(y)\n",
    "print(z)\n",
    "\n",
    "#Similar process for every data type casting"
   ]
  },
  {
   "cell_type": "markdown",
   "id": "b01e1001",
   "metadata": {},
   "source": [
    "## Python String"
   ]
  },
  {
   "cell_type": "code",
   "execution_count": 10,
   "id": "a9a6dc10",
   "metadata": {},
   "outputs": [
    {
     "name": "stdout",
     "output_type": "stream",
     "text": [
      "hello python\n"
     ]
    }
   ],
   "source": [
    "a = 'hello python'\n",
    "print(a)"
   ]
  },
  {
   "cell_type": "code",
   "execution_count": 11,
   "id": "cbdf7e85",
   "metadata": {},
   "outputs": [
    {
     "name": "stdout",
     "output_type": "stream",
     "text": [
      " Lorem ipsum dolor sit amet,\n",
      "consectetur adipiscing elit,\n",
      "sed do eiusmod tempor incididunt\n",
      "ut labore et dolore magna aliqua.\n"
     ]
    }
   ],
   "source": [
    "#Multiline string\n",
    "a = \"\"\" Lorem ipsum dolor sit amet,\n",
    "consectetur adipiscing elit,\n",
    "sed do eiusmod tempor incididunt\n",
    "ut labore et dolore magna aliqua.\"\"\"\n",
    "\n",
    "print(a)"
   ]
  },
  {
   "cell_type": "code",
   "execution_count": 12,
   "id": "d8d0c72d",
   "metadata": {},
   "outputs": [
    {
     "name": "stdout",
     "output_type": "stream",
     "text": [
      "e\n"
     ]
    }
   ],
   "source": [
    "a = 'Hello, World!'\n",
    "print(a[0])"
   ]
  },
  {
   "cell_type": "code",
   "execution_count": 13,
   "id": "26ca5242",
   "metadata": {},
   "outputs": [
    {
     "name": "stdout",
     "output_type": "stream",
     "text": [
      "b\n",
      "a\n",
      "n\n",
      "a\n",
      "n\n",
      "a\n"
     ]
    }
   ],
   "source": [
    "#looping through a string\n",
    "for x in 'banana':\n",
    "    print(x)"
   ]
  },
  {
   "cell_type": "code",
   "execution_count": 14,
   "id": "0fa7cce7",
   "metadata": {},
   "outputs": [
    {
     "name": "stdout",
     "output_type": "stream",
     "text": [
      "13\n"
     ]
    }
   ],
   "source": [
    "#string length\n",
    "a = 'Hello, World!'\n",
    "print(len(a))"
   ]
  },
  {
   "cell_type": "code",
   "execution_count": 15,
   "id": "9830035a",
   "metadata": {},
   "outputs": [
    {
     "name": "stdout",
     "output_type": "stream",
     "text": [
      "True\n"
     ]
    }
   ],
   "source": [
    "#check string\n",
    "txt = 'The best in life is free'\n",
    "print(\"free\" in txt)"
   ]
  },
  {
   "cell_type": "code",
   "execution_count": 1,
   "id": "802a9455",
   "metadata": {},
   "outputs": [
    {
     "name": "stdout",
     "output_type": "stream",
     "text": [
      "Yes, 'free' is present\n"
     ]
    }
   ],
   "source": [
    "txt = 'The best in life is free'\n",
    "if 'free' in txt:\n",
    "    print(\"Yes, 'free' is present\")"
   ]
  },
  {
   "cell_type": "markdown",
   "id": "fabf1c32",
   "metadata": {},
   "source": [
    "### Slicing Strings"
   ]
  },
  {
   "cell_type": "code",
   "execution_count": 4,
   "id": "c73c2a32",
   "metadata": {},
   "outputs": [
    {
     "name": "stdout",
     "output_type": "stream",
     "text": [
      "world\n"
     ]
    }
   ],
   "source": [
    "b = 'hello world'\n",
    "# print(b[2:5])\n",
    "\n",
    "#slice from the start\n",
    "# print(b[:5])\n",
    "\n",
    "# Slice to the end\n",
    "print(b[6:])"
   ]
  },
  {
   "cell_type": "markdown",
   "id": "a9a893ec",
   "metadata": {},
   "source": [
    "### Modify Strings"
   ]
  },
  {
   "cell_type": "code",
   "execution_count": 13,
   "id": "3e6a2c76",
   "metadata": {},
   "outputs": [
    {
     "name": "stdout",
     "output_type": "stream",
     "text": [
      "HELLO PYTHON\n",
      "hello python\n",
      "Hello, Python\n",
      "yello world\n",
      "['Hello', ' Python']\n"
     ]
    }
   ],
   "source": [
    "a = 'hello python'\n",
    "print(a.upper()) # upper case\n",
    "print(a.lower()) # upper case\n",
    "\n",
    "b = \" Hello, Python \"\n",
    "print(b.strip()) # removes white spaces from the beginning or end\n",
    "\n",
    "# replacing word\n",
    "c = 'hello world'\n",
    "print(c.replace(\"h\", \"y\"))\n",
    "\n",
    "# splits the string into substrings if it finds instances of the separator\n",
    "d = \"Hello, Python\"\n",
    "print(d.split(\",\"))"
   ]
  },
  {
   "cell_type": "markdown",
   "id": "6f8a1869",
   "metadata": {},
   "source": [
    "### String Concatenaton"
   ]
  },
  {
   "cell_type": "code",
   "execution_count": 15,
   "id": "38daf3c3",
   "metadata": {},
   "outputs": [
    {
     "name": "stdout",
     "output_type": "stream",
     "text": [
      "HelloPython\n",
      "Hello Python\n"
     ]
    }
   ],
   "source": [
    "a = \"Hello\"\n",
    "b = \"Python\"\n",
    "c = a + b\n",
    "print(c)\n",
    "\n",
    "d = \"Hello\"\n",
    "e = \"Python\"\n",
    "f = d + \" \" + e\n",
    "print(f)"
   ]
  },
  {
   "cell_type": "markdown",
   "id": "cd83eac1",
   "metadata": {},
   "source": [
    "### List"
   ]
  },
  {
   "cell_type": "raw",
   "id": "c0e5a3d6",
   "metadata": {},
   "source": [
    "List is a collection which is ordered and changeable. Allows duplicate members."
   ]
  },
  {
   "cell_type": "code",
   "execution_count": 29,
   "id": "9af8c9e3",
   "metadata": {},
   "outputs": [
    {
     "name": "stdout",
     "output_type": "stream",
     "text": [
      "['apple', 'banana']\n"
     ]
    }
   ],
   "source": [
    "lst = [\"apple\", \"banana\", \"cherry\"]\n",
    "# print(lst)\n",
    "# print(len(lst))\n",
    "\n",
    "# lst1 = [\"apple\", \"mango\", 7, 5, True, False]\n",
    "# print(lst1)\n",
    "\n",
    "# print(lst[1]) # accessing element from front\n",
    "# print(lst[-1]) # accessing element from behind\n",
    "\n",
    "# print(lst[2:5])\n",
    "# print(lst[-4:-1])\n",
    "\n",
    "# if \"mango\" in lst:\n",
    "#     print(\"Yes, in the list\")\n",
    "\n",
    "# exchange the elements\n",
    "# lst[1] = \"grape\"\n",
    "# lst[0:3] = [\"jackfruit\", \"guava\"]\n",
    "# print(lst)\n",
    "\n",
    "#insert new element to the list at any specific position\n",
    "# lst.insert(2, \"guava\")\n",
    "# print(lst)\n",
    "\n",
    "#adding anything to the last of the list\n",
    "# lst.append(\"mango\")\n",
    "# print(lst)\n",
    "\n",
    "# merge two lists/tuples/sets/dictionaries\n",
    "# lst1 = [\"orange\", \"kiwi\", \"melon\"]\n",
    "# lst2 = (\"orange\", \"kiwi\", \"melon\")\n",
    "# lst.extend(lst2)\n",
    "# print(lst)\n",
    "\n",
    "# remove list items\n",
    "# lst.pop() # removes last item\n",
    "# lst.pop(0)# removes specified\n",
    "# lst.clear() # clears the  list but still remains the empty list\n",
    "# print(lst)\n",
    "\n",
    "# loop through the list\n",
    "# for x in lst:\n",
    "#     print(x)\n",
    "\n",
    "# loop through the index number\n",
    "# for i in range(len(lst)):\n",
    "#     print(lst[i])\n",
    "\n",
    "#list comprehension\n",
    "new_lst = []\n",
    "for i in lst:\n",
    "    if \"a\" in i:\n",
    "        new_lst.append(i)\n",
    "print(new_lst)"
   ]
  },
  {
   "cell_type": "code",
   "execution_count": null,
   "id": "64f34661",
   "metadata": {},
   "outputs": [],
   "source": []
  },
  {
   "cell_type": "code",
   "execution_count": null,
   "id": "45b6308e",
   "metadata": {},
   "outputs": [],
   "source": []
  }
 ],
 "metadata": {
  "kernelspec": {
   "display_name": "Python 3 (ipykernel)",
   "language": "python",
   "name": "python3"
  },
  "language_info": {
   "codemirror_mode": {
    "name": "ipython",
    "version": 3
   },
   "file_extension": ".py",
   "mimetype": "text/x-python",
   "name": "python",
   "nbconvert_exporter": "python",
   "pygments_lexer": "ipython3",
   "version": "3.9.12"
  }
 },
 "nbformat": 4,
 "nbformat_minor": 5
}
