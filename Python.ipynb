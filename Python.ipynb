{
 "cells": [
  {
   "cell_type": "markdown",
   "id": "c6ca28cd",
   "metadata": {},
   "source": [
    "## Python variables -  Assign Multiple Values"
   ]
  },
  {
   "cell_type": "code",
   "execution_count": 2,
   "id": "a0cef043",
   "metadata": {},
   "outputs": [
    {
     "name": "stdout",
     "output_type": "stream",
     "text": [
      "Biriyani\n",
      "Kacchi\n",
      "Borhani\n"
     ]
    }
   ],
   "source": [
    "#Many Values to Multiple Variables\n",
    "x, y, z = 'Biriyani', 'Kacchi', 'Borhani'\n",
    "print(x)\n",
    "print(y)\n",
    "print(z)"
   ]
  },
  {
   "cell_type": "code",
   "execution_count": 3,
   "id": "637c1dd9",
   "metadata": {},
   "outputs": [
    {
     "name": "stdout",
     "output_type": "stream",
     "text": [
      "Kacchi\n",
      "Kacchi\n",
      "Kacchi\n"
     ]
    }
   ],
   "source": [
    "# One Value to Multiple Variables\n",
    "x = y = z = \"Kacchi\"\n",
    "print(x)\n",
    "print(y)\n",
    "print(z)"
   ]
  },
  {
   "cell_type": "code",
   "execution_count": 4,
   "id": "41c2caf2",
   "metadata": {},
   "outputs": [
    {
     "name": "stdout",
     "output_type": "stream",
     "text": [
      "Kacchi\n",
      "Tehari\n",
      "Borhani\n"
     ]
    }
   ],
   "source": [
    "#If you have a collection of values in a list, tuple etc. Python allows you to extract the values into variables. \n",
    "#This is called unpacking.\n",
    "\n",
    "biriyani = ['Kacchi', 'Tehari', 'Borhani']\n",
    "x, y, z = biriyani\n",
    "print(x)\n",
    "print(y)\n",
    "print(z)"
   ]
  },
  {
   "cell_type": "markdown",
   "id": "815e2233",
   "metadata": {},
   "source": [
    "## Output Variables"
   ]
  },
  {
   "cell_type": "code",
   "execution_count": 5,
   "id": "99dfa200",
   "metadata": {},
   "outputs": [
    {
     "name": "stdout",
     "output_type": "stream",
     "text": [
      "5 Faysal\n"
     ]
    }
   ],
   "source": [
    "x = 5\n",
    "y = \"Faysal\"\n",
    "print(x, y)"
   ]
  },
  {
   "cell_type": "markdown",
   "id": "a9fc8006",
   "metadata": {},
   "source": [
    "## Global Variable"
   ]
  },
  {
   "cell_type": "code",
   "execution_count": 2,
   "id": "f905cf74",
   "metadata": {},
   "outputs": [
    {
     "name": "stdout",
     "output_type": "stream",
     "text": [
      "Python is awesome\n"
     ]
    }
   ],
   "source": [
    "x = 'awesome'\n",
    "\n",
    "def my_func():\n",
    "    print(\"Python is \" + x)\n",
    "\n",
    "my_func()"
   ]
  },
  {
   "cell_type": "code",
   "execution_count": 5,
   "id": "33f379d6",
   "metadata": {},
   "outputs": [
    {
     "name": "stdout",
     "output_type": "stream",
     "text": [
      "Python is fantastic\n"
     ]
    }
   ],
   "source": [
    "def my_func():\n",
    "    global x\n",
    "    x = 'fantastic'\n",
    "\n",
    "my_func()\n",
    "print(\"Python is \" + x)"
   ]
  },
  {
   "cell_type": "code",
   "execution_count": null,
   "id": "a75de353",
   "metadata": {},
   "outputs": [],
   "source": []
  }
 ],
 "metadata": {
  "kernelspec": {
   "display_name": "Python 3 (ipykernel)",
   "language": "python",
   "name": "python3"
  },
  "language_info": {
   "codemirror_mode": {
    "name": "ipython",
    "version": 3
   },
   "file_extension": ".py",
   "mimetype": "text/x-python",
   "name": "python",
   "nbconvert_exporter": "python",
   "pygments_lexer": "ipython3",
   "version": "3.9.12"
  }
 },
 "nbformat": 4,
 "nbformat_minor": 5
}
